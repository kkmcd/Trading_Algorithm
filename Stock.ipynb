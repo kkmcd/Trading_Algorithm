{
 "cells": [
  {
   "cell_type": "code",
   "execution_count": 3,
   "metadata": {},
   "outputs": [
    {
     "name": "stdout",
     "output_type": "stream",
     "text": [
      "130000.0\n",
      "7000.0\n",
      "__main__\n"
     ]
    }
   ],
   "source": [
    "def cal_upper(price):\n",
    "    increment = price * 0.3\n",
    "    upper_price = price+increment\n",
    "    return upper_price\n",
    "\n",
    "def cal_lower(price):\n",
    "    decrement = price * 0.3\n",
    "    lower_price = price - decrement\n",
    "    return lower_price\n",
    "\n",
    "author = \"pyStock\"\n",
    "\n",
    "def run():\n",
    "    print(cal_upper(100000))\n",
    "    print(cal_lower(10000))\n",
    "    print(__name__)\n",
    "\n",
    "#Module이 제대로 동작하는지 확인하기 위해서 testcode를 실행시킴\n",
    "#python Stock을 통해서 실행시키면 run이 실행됨. but python 시키고 import Stock하면 아래의 run이 실행안됨\n",
    "\n",
    "if __name__ == '__main__':\n",
    "    run()"
   ]
  }
 ],
 "metadata": {
  "kernelspec": {
   "display_name": "Python 3",
   "language": "python",
   "name": "python3"
  },
  "language_info": {
   "codemirror_mode": {
    "name": "ipython",
    "version": 3
   },
   "file_extension": ".py",
   "mimetype": "text/x-python",
   "name": "python",
   "nbconvert_exporter": "python",
   "pygments_lexer": "ipython3",
   "version": "3.6.3"
  }
 },
 "nbformat": 4,
 "nbformat_minor": 2
}
